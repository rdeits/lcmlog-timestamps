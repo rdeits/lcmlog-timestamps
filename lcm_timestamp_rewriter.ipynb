{
 "cells": [
  {
   "cell_type": "code",
   "execution_count": 1,
   "metadata": {
    "collapsed": true
   },
   "outputs": [],
   "source": [
    "import lcm"
   ]
  },
  {
   "cell_type": "code",
   "execution_count": 2,
   "metadata": {
    "collapsed": true
   },
   "outputs": [],
   "source": [
    "original = lcm.EventLog(\"lcmlog__2015-05-17__22-34-38-022582\", \"r\")"
   ]
  },
  {
   "cell_type": "code",
   "execution_count": 3,
   "metadata": {
    "collapsed": true
   },
   "outputs": [],
   "source": [
    "event = original.read_next_event()"
   ]
  },
  {
   "cell_type": "code",
   "execution_count": 4,
   "metadata": {
    "collapsed": false
   },
   "outputs": [
    {
     "data": {
      "text/plain": [
       "1431916478227557L"
      ]
     },
     "execution_count": 4,
     "metadata": {},
     "output_type": "execute_result"
    }
   ],
   "source": [
    "event.timestamp"
   ]
  },
  {
   "cell_type": "code",
   "execution_count": 5,
   "metadata": {
    "collapsed": false
   },
   "outputs": [
    {
     "data": {
      "text/plain": [
       "'PMD_ORDERS2'"
      ]
     },
     "execution_count": 5,
     "metadata": {},
     "output_type": "execute_result"
    }
   ],
   "source": [
    "event.channel"
   ]
  },
  {
   "cell_type": "code",
   "execution_count": 6,
   "metadata": {
    "collapsed": true
   },
   "outputs": [],
   "source": [
    "import drake as lcmdrake"
   ]
  },
  {
   "cell_type": "code",
   "execution_count": 7,
   "metadata": {
    "collapsed": false
   },
   "outputs": [
    {
     "data": {
      "text/plain": [
       "8"
      ]
     },
     "execution_count": 7,
     "metadata": {},
     "output_type": "execute_result"
    }
   ],
   "source": [
    "len(lcmdrake.lcmt_viewer_draw._get_packed_fingerprint())"
   ]
  },
  {
   "cell_type": "code",
   "execution_count": 8,
   "metadata": {
    "collapsed": false
   },
   "outputs": [
    {
     "data": {
      "text/plain": [
       "False"
      ]
     },
     "execution_count": 8,
     "metadata": {},
     "output_type": "execute_result"
    }
   ],
   "source": [
    "event.data[:8] == lcmdrake.lcmt_viewer_draw._get_packed_fingerprint()"
   ]
  },
  {
   "cell_type": "code",
   "execution_count": 9,
   "metadata": {
    "collapsed": false
   },
   "outputs": [],
   "source": [
    "import inspect"
   ]
  },
  {
   "cell_type": "code",
   "execution_count": 10,
   "metadata": {
    "collapsed": false
   },
   "outputs": [
    {
     "data": {
      "text/plain": [
       "{'\\x0fj\\xd6\\xb7c/L\\xa0': drake.lcmt_driving_control_cmd_t.lcmt_driving_control_cmd_t,\n",
       " '\\x1d\\x83m\"\\x031\\xa6\\xb0': drake.lcmt_whole_body_data.lcmt_whole_body_data,\n",
       " '5\\xcd\\xd7\\xf9\\xbd\\xc1\\x87o': drake.lcmt_quadrotor_input_t.lcmt_quadrotor_input_t,\n",
       " '=\\x12\\xab\\xabc2\\x89~': drake.lcmt_zmp_data.lcmt_zmp_data,\n",
       " 'AO\\x0b\\xfe[/BD': drake.lcmt_viewer_draw.lcmt_viewer_draw,\n",
       " \"B~\\xd0\\x18h'\\x88\\xee\": drake.lcmt_polynomial_matrix.lcmt_polynomial_matrix,\n",
       " 'C\\x11\\xe0\\xd8\\x8cAz\\xa7': drake.lcmt_qp_controller_input.lcmt_qp_controller_input,\n",
       " 'F\\xdc\\xe7\\xd9\\xad\\xf8rd': drake.lcmt_drake_signal.lcmt_drake_signal,\n",
       " 'L\"\\xf6M\\xc1\\xd5V\\x85': drake.lcmt_piecewise_polynomial.lcmt_piecewise_polynomial,\n",
       " \"Q%'%\\xaf\\x98*c\": drake.lcmt_viewer_link_data.lcmt_viewer_link_data,\n",
       " '].4\\xcb2W\\xdb\\x07': drake.lcmt_viewer_geometry_data.lcmt_viewer_geometry_data,\n",
       " 'i{\\x9d6\\x94\\xdcXJ': drake.lcmt_polynomial.lcmt_polynomial,\n",
       " 'i\\xf8\\x95El\\x94LO': drake.lcmt_joint_pd_override.lcmt_joint_pd_override,\n",
       " 's d92[e\\xc5': drake.lcmt_force_torque.lcmt_force_torque,\n",
       " '~\\xb0<\\xcb7\\xd4|\\xae': drake.lcmt_support_data.lcmt_support_data,\n",
       " '\\x89\\x87 \\x9b\\x10\\xaa-9': drake.lcmt_viewer_load_robot.lcmt_viewer_load_robot,\n",
       " '\\x90\\xac\\x96\\x05\\x1e\\xd9\\x15}': drake.lcmt_simulation_command.lcmt_simulation_command,\n",
       " '\\x9cw\\xe4\\x8e\\x04\\xb5\\xf8_': drake.lcmt_scope_data.lcmt_scope_data,\n",
       " '\\x9f\"\\xb8D.`\\xe1<': drake.lcmt_body_wrench_data.lcmt_body_wrench_data,\n",
       " '\\xaeLU\\x06\\xc8|q\\xe8': drake.lcmt_body_motion_data.lcmt_body_motion_data,\n",
       " '\\xbc*\\xadOGD\\x80\\xff': drake.lcmt_zmp_com_observer_state.lcmt_zmp_com_observer_state,\n",
       " '\\xbd\\xca\\x98\\xcb\\x96\\xcc\\xacz': drake.lcmt_robot_state.lcmt_robot_state,\n",
       " '\\xbe\\xcd\\x12\\xebd\\x0c\\xd6 ': drake.lcmt_quadrotor_output_t.lcmt_quadrotor_output_t,\n",
       " '\\xe51\\x936\\xd8(\\xfb\\x84': drake.lcmt_foot_flag.lcmt_foot_flag,\n",
       " '\\xf0\\xf1\\xf6O%iQ.': drake.lcmt_viewer_command.lcmt_viewer_command}"
      ]
     },
     "execution_count": 10,
     "metadata": {},
     "output_type": "execute_result"
    }
   ],
   "source": [
    "lcmtypes = [c[1] for c in inspect.getmembers(lcmdrake) if inspect.isclass(c[1]) and hasattr(c[1], \"_get_packed_fingerprint\")]\n",
    "{c._get_packed_fingerprint(): c for c in lcmtypes}"
   ]
  },
  {
   "cell_type": "code",
   "execution_count": 11,
   "metadata": {
    "collapsed": false
   },
   "outputs": [],
   "source": [
    "def lcmtype_classes(module_name):\n",
    "    module = __import__(module_name)\n",
    "    return [c[1] for c in inspect.getmembers(module) if inspect.isclass(c[1]) and hasattr(c[1], \"_get_packed_fingerprint\")]\n",
    "\n",
    "def fingerprint_map(classes):\n",
    "    return {c._get_packed_fingerprint(): c for c in classes}\n",
    "\n",
    "class MessageTypeManager(object):\n",
    "    def __init__(self, lcmtype_module_names):\n",
    "        self.fingerprint_to_type = {}\n",
    "        for name in lcmtype_module_names:\n",
    "            self.fingerprint_to_type.update(fingerprint_map(lcmtype_classes(name)))\n",
    "            \n",
    "        self.channel_to_type = {}\n",
    "        \n",
    "    def get_message_type(self, event):\n",
    "        fingerprint = event.data[:8]\n",
    "        return self.fingerprint_to_type[fingerprint]\n",
    "    \n",
    "    def decode_event(self, event):\n",
    "        msg_type = self.get_message_type(event)\n",
    "        return msg_type.decode(event.data)\n",
    "    \n",
    "        "
   ]
  },
  {
   "cell_type": "code",
   "execution_count": 12,
   "metadata": {
    "collapsed": false
   },
   "outputs": [],
   "source": []
  },
  {
   "cell_type": "code",
   "execution_count": 13,
   "metadata": {
    "collapsed": false
   },
   "outputs": [
    {
     "data": {
      "text/plain": [
       "<bot_procman.orders2_t.orders2_t at 0x7fcc50ee5f30>"
      ]
     },
     "execution_count": 13,
     "metadata": {},
     "output_type": "execute_result"
    }
   ],
   "source": [
    "manager = MessageTypeManager([\"bot_core\", \"drake\", \"bot_procman\", \"drc\"])\n"
   ]
  },
  {
   "cell_type": "code",
   "execution_count": 21,
   "metadata": {
    "collapsed": false
   },
   "outputs": [],
   "source": [
    "out = lcm.EventLog(\"rewritten\", \"w\", overwrite=True)\n",
    "original = lcm.EventLog(\"lcmlog__2015-05-17__22-34-38-022582\", \"r\")\n",
    "for event in original:\n",
    "    msg = manager.decode_event(event)\n",
    "    for field in [\"utime\", \"timestamp\"]:\n",
    "        if hasattr(msg, field):\n",
    "            setattr(msg, field, event.timestamp)\n",
    "            break\n",
    "    out.write_event(event.timestamp, event.channel, msg.encode())\n",
    "\n"
   ]
  },
  {
   "cell_type": "code",
   "execution_count": 16,
   "metadata": {
    "collapsed": false
   },
   "outputs": [],
   "source": [
    "msg = manager.decode_event(event)"
   ]
  },
  {
   "cell_type": "code",
   "execution_count": 18,
   "metadata": {
    "collapsed": true
   },
   "outputs": [],
   "source": [
    "setattr(msg, \"utime\", 0)"
   ]
  },
  {
   "cell_type": "code",
   "execution_count": 19,
   "metadata": {
    "collapsed": false
   },
   "outputs": [
    {
     "data": {
      "text/plain": [
       "0"
      ]
     },
     "execution_count": 19,
     "metadata": {},
     "output_type": "execute_result"
    }
   ],
   "source": [
    "msg.utime"
   ]
  },
  {
   "cell_type": "code",
   "execution_count": 53,
   "metadata": {
    "collapsed": false
   },
   "outputs": [
    {
     "data": {
      "text/plain": [
       "{'\\x07\\xf3\\xb1\\xad\\xde\\xb6\\xaag': drake.lcmt_euler_floating_joint_state_t.lcmt_euler_floating_joint_state_t,\n",
       " '\\x0fj\\xd6\\xb7c/L\\xa0': drake.lcmt_driving_control_cmd_t.lcmt_driving_control_cmd_t,\n",
       " '\\x1d\\x83m\"\\x031\\xa6\\xb0': drake.lcmt_whole_body_data.lcmt_whole_body_data,\n",
       " '5\\xcd\\xd7\\xf9\\xbd\\xc1\\x87o': drake.lcmt_quadrotor_input_t.lcmt_quadrotor_input_t,\n",
       " '=\\x12\\xab\\xabc2\\x89~': drake.lcmt_zmp_data.lcmt_zmp_data,\n",
       " 'AO\\x0b\\xfe[/BD': drake.lcmt_viewer_draw.lcmt_viewer_draw,\n",
       " \"B~\\xd0\\x18h'\\x88\\xee\": drake.lcmt_polynomial_matrix.lcmt_polynomial_matrix,\n",
       " 'C\\x11\\xe0\\xd8\\x8cAz\\xa7': drake.lcmt_qp_controller_input.lcmt_qp_controller_input,\n",
       " 'F\\xdc\\xe7\\xd9\\xad\\xf8rd': drake.lcmt_drake_signal.lcmt_drake_signal,\n",
       " 'L\"\\xf6M\\xc1\\xd5V\\x85': drake.lcmt_piecewise_polynomial.lcmt_piecewise_polynomial,\n",
       " 'Lx\\xcaC\\x90jI\\x87': drake.lcmt_simple_car_state_t.lcmt_simple_car_state_t,\n",
       " \"Q%'%\\xaf\\x98*c\": drake.lcmt_viewer_link_data.lcmt_viewer_link_data,\n",
       " '].4\\xcb2W\\xdb\\x07': drake.lcmt_viewer_geometry_data.lcmt_viewer_geometry_data,\n",
       " 'i{\\x9d6\\x94\\xdcXJ': drake.lcmt_polynomial.lcmt_polynomial,\n",
       " 'i\\xf8\\x95El\\x94LO': drake.lcmt_joint_pd_override.lcmt_joint_pd_override,\n",
       " 's d92[e\\xc5': drake.lcmt_force_torque.lcmt_force_torque,\n",
       " '|\\x04\\xfe\\x1c\\xd9\\x1b\\xcbV': drake.lcmt_driving_command_t.lcmt_driving_command_t,\n",
       " '~\\xb0<\\xcb7\\xd4|\\xae': drake.lcmt_support_data.lcmt_support_data,\n",
       " '\\x89\\x87 \\x9b\\x10\\xaa-9': drake.lcmt_viewer_load_robot.lcmt_viewer_load_robot,\n",
       " '\\x90\\xac\\x96\\x05\\x1e\\xd9\\x15}': drake.lcmt_simulation_command.lcmt_simulation_command,\n",
       " '\\x9cw\\xe4\\x8e\\x04\\xb5\\xf8_': drake.lcmt_scope_data.lcmt_scope_data,\n",
       " '\\x9e\\x9a\\x7f@\\t\\xed\\xc6\\xcb': drake.lcmt_quadrotor_output_t.lcmt_quadrotor_output_t,\n",
       " '\\x9f\"\\xb8D.`\\xe1<': drake.lcmt_body_wrench_data.lcmt_body_wrench_data,\n",
       " '\\xaeLU\\x06\\xc8|q\\xe8': drake.lcmt_body_motion_data.lcmt_body_motion_data,\n",
       " '\\xbc*\\xadOGD\\x80\\xff': drake.lcmt_zmp_com_observer_state.lcmt_zmp_com_observer_state,\n",
       " '\\xbd\\xca\\x98\\xcb\\x96\\xcc\\xacz': drake.lcmt_robot_state.lcmt_robot_state,\n",
       " '\\xc5#\\xc8h\\xd9\\n\\xe0S': drake.lcmt_simple_car_config_t.lcmt_simple_car_config_t,\n",
       " '\\xe51\\x936\\xd8(\\xfb\\x84': drake.lcmt_foot_flag.lcmt_foot_flag,\n",
       " '\\xf0\\xf1\\xf6O%iQ.': drake.lcmt_viewer_command.lcmt_viewer_command}"
      ]
     },
     "execution_count": 53,
     "metadata": {},
     "output_type": "execute_result"
    }
   ],
   "source": [
    "fingerprint_map(lcmtype_classes(\"drake\"))"
   ]
  },
  {
   "cell_type": "code",
   "execution_count": null,
   "metadata": {
    "collapsed": true
   },
   "outputs": [],
   "source": []
  }
 ],
 "metadata": {
  "kernelspec": {
   "display_name": "Python 2",
   "language": "python",
   "name": "python2"
  },
  "language_info": {
   "codemirror_mode": {
    "name": "ipython",
    "version": 2
   },
   "file_extension": ".py",
   "mimetype": "text/x-python",
   "name": "python",
   "nbconvert_exporter": "python",
   "pygments_lexer": "ipython2",
   "version": "2.7.6"
  }
 },
 "nbformat": 4,
 "nbformat_minor": 0
}
